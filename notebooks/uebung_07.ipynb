{
 "cells": [
  {
   "cell_type": "code",
   "execution_count": 1,
   "metadata": {},
   "outputs": [
    {
     "name": "stdout",
     "output_type": "stream",
     "text": [
      "device: cpu\n"
     ]
    }
   ],
   "source": [
    "from timeit import default_timer as timer\n",
    "import numpy as np\n",
    "import pandas as pd\n",
    "import matplotlib.pyplot as plt\n",
    "from tqdm import tqdm\n",
    "\n",
    "from torch.utils.data import Dataset, DataLoader\n",
    "from torch.optim.lr_scheduler import ReduceLROnPlateau\n",
    "from torch.optim.lr_scheduler import ExponentialLR\n",
    "import torch\n",
    "import torch.nn as nn\n",
    "\n",
    "from torchvision import datasets\n",
    "from torch.optim import SGD\n",
    "from torch.optim import Adam\n",
    "\n",
    "import neptune\n",
    "import lovely_tensors as lt\n",
    "\n",
    "from neptune_creds import api_token\n",
    "\n",
    "lt.monkey_patch()\n",
    "\n",
    "device = \"cuda\" if torch.cuda.is_available() else \"cpu\"\n",
    "print( f\"device: {device}\" )"
   ]
  },
  {
   "cell_type": "code",
   "execution_count": 10,
   "metadata": {},
   "outputs": [],
   "source": [
    "train_set = datasets.MNIST('data/', download=True, train=True)\n",
    "train_images = train_set.data\n",
    "train_targets = train_set.targets\n",
    "\n",
    "test_set = datasets.MNIST('data/', download=True, train=False)\n",
    "test_images = test_set.data\n",
    "test_targets = test_set.targets\n",
    "\n",
    "class MNISTDataset(Dataset):\n",
    "    def __init__(self, x, y):\n",
    "        x = x.float()/255\n",
    "        x = x.unsqueeze(1)\n",
    "        x = x.view(-1,28*28)\n",
    "        self.x, self.y = x, y\n",
    "    def __getitem__(self, ix):\n",
    "        x, y = self.x[ix], self.y[ix]\n",
    "        return x.to(device), y.to(device)\n",
    "    def __len__(self):\n",
    "        return len(self.x)\n",
    "    \n",
    "def get_data(batch_size=32):\n",
    "    train = MNISTDataset(train_images, train_targets)\n",
    "    train_dl = DataLoader(train, batch_size=batch_size, shuffle=True,)\n",
    "    test = MNISTDataset(test_images, test_targets)\n",
    "    test_dl = DataLoader(test, batch_size=len(test_images), shuffle=True)\n",
    "    return train_dl, test_dl"
   ]
  },
  {
   "cell_type": "code",
   "execution_count": 7,
   "metadata": {},
   "outputs": [
    {
     "data": {
      "text/plain": [
       "<All keys matched successfully>"
      ]
     },
     "execution_count": 7,
     "metadata": {},
     "output_type": "execute_result"
    }
   ],
   "source": [
    "model = nn.Sequential(\n",
    "    nn.Linear(28 * 28, 30),\n",
    "    nn.Tanh(),\n",
    "    nn.Linear(30, 20),\n",
    "    nn.Tanh(),\n",
    "    nn.Linear(20, 10),\n",
    "    nn.LogSoftmax(dim=1)\n",
    "    )\n",
    "\n",
    "model.load_state_dict(torch.load('models/nnMnist97p.pt'))\n"
   ]
  },
  {
   "attachments": {},
   "cell_type": "markdown",
   "metadata": {},
   "source": [
    "- for correctly classified images: invert pixels in a loop and classify after every loop\n",
    "- count robus images which are still correctly classified after all 784 iterations\n",
    "- count the misclassifications (which combinations of digits are misclassified)"
   ]
  },
  {
   "cell_type": "code",
   "execution_count": 11,
   "metadata": {},
   "outputs": [],
   "source": [
    "train_dl, _ = get_data(batch_size=1)\n",
    "log_dict = {\"predicted\": [], \"actual\": []}\n",
    "from itertools import permutations\n",
    "class_perm_dict = {str(key): 0 for key in permutations(range(0, 10), 2)}\n",
    "model_reacted = []\n",
    "failed_combinations = []\n",
    "\n",
    "# def modify_misses(x, model, predicted_class, actual_class):\n",
    "#     for i, px in enumerate(range(28*28)):\n",
    "#     # invert a pixel and see if the prediction changes\n",
    "#     x[0, px] = 1 - x[0, px]\n",
    "#     y_hat = model.forward(x)\n",
    "#     predicted_class = torch.argmax(y_hat, dim=1).item()\n",
    "    \n",
    "#     log_dict[\"predicted\"].append(predicted_class)\n",
    "#     log_dict[\"actual\"].append(actual_class)\n",
    "    \n",
    "#     if predicted_class != actual_class:\n",
    "#         model_reacted.append(px)\n",
    "#         failed_combinations.append(zip(predicted_class, actual_class))"
   ]
  },
  {
   "cell_type": "code",
   "execution_count": 14,
   "metadata": {},
   "outputs": [
    {
     "name": "stderr",
     "output_type": "stream",
     "text": [
      " 50%|████▉     | 29735/60000 [1:36:27<1:38:10,  5.14it/s]\n"
     ]
    },
    {
     "ename": "KeyboardInterrupt",
     "evalue": "",
     "output_type": "error",
     "traceback": [
      "\u001b[1;31m---------------------------------------------------------------------------\u001b[0m",
      "\u001b[1;31mKeyboardInterrupt\u001b[0m                         Traceback (most recent call last)",
      "Cell \u001b[1;32mIn[14], line 15\u001b[0m\n\u001b[0;32m     12\u001b[0m \u001b[39mfor\u001b[39;00m px \u001b[39min\u001b[39;00m \u001b[39mrange\u001b[39m(\u001b[39m28\u001b[39m\u001b[39m*\u001b[39m\u001b[39m28\u001b[39m):\n\u001b[0;32m     13\u001b[0m     \u001b[39m# invert a pixel and see if the prediction changes\u001b[39;00m\n\u001b[0;32m     14\u001b[0m     x[\u001b[39m0\u001b[39m, px] \u001b[39m=\u001b[39m \u001b[39m1\u001b[39m \u001b[39m-\u001b[39m x[\u001b[39m0\u001b[39m, px]\n\u001b[1;32m---> 15\u001b[0m     y_hat \u001b[39m=\u001b[39m model\u001b[39m.\u001b[39;49mforward(x)\n\u001b[0;32m     16\u001b[0m     predicted_class \u001b[39m=\u001b[39m torch\u001b[39m.\u001b[39margmax(y_hat, dim\u001b[39m=\u001b[39m\u001b[39m1\u001b[39m)\u001b[39m.\u001b[39mitem()\n\u001b[0;32m     18\u001b[0m     log_dict[\u001b[39m\"\u001b[39m\u001b[39mpredicted\u001b[39m\u001b[39m\"\u001b[39m]\u001b[39m.\u001b[39mappend(predicted_class)\n",
      "File \u001b[1;32mc:\\Users\\rosen\\miniconda3\\envs\\DLO\\Lib\\site-packages\\torch\\nn\\modules\\container.py:217\u001b[0m, in \u001b[0;36mSequential.forward\u001b[1;34m(self, input)\u001b[0m\n\u001b[0;32m    215\u001b[0m \u001b[39mdef\u001b[39;00m \u001b[39mforward\u001b[39m(\u001b[39mself\u001b[39m, \u001b[39minput\u001b[39m):\n\u001b[0;32m    216\u001b[0m     \u001b[39mfor\u001b[39;00m module \u001b[39min\u001b[39;00m \u001b[39mself\u001b[39m:\n\u001b[1;32m--> 217\u001b[0m         \u001b[39minput\u001b[39m \u001b[39m=\u001b[39m module(\u001b[39minput\u001b[39;49m)\n\u001b[0;32m    218\u001b[0m     \u001b[39mreturn\u001b[39;00m \u001b[39minput\u001b[39m\n",
      "File \u001b[1;32mc:\\Users\\rosen\\miniconda3\\envs\\DLO\\Lib\\site-packages\\torch\\nn\\modules\\module.py:1501\u001b[0m, in \u001b[0;36mModule._call_impl\u001b[1;34m(self, *args, **kwargs)\u001b[0m\n\u001b[0;32m   1496\u001b[0m \u001b[39m# If we don't have any hooks, we want to skip the rest of the logic in\u001b[39;00m\n\u001b[0;32m   1497\u001b[0m \u001b[39m# this function, and just call forward.\u001b[39;00m\n\u001b[0;32m   1498\u001b[0m \u001b[39mif\u001b[39;00m \u001b[39mnot\u001b[39;00m (\u001b[39mself\u001b[39m\u001b[39m.\u001b[39m_backward_hooks \u001b[39mor\u001b[39;00m \u001b[39mself\u001b[39m\u001b[39m.\u001b[39m_backward_pre_hooks \u001b[39mor\u001b[39;00m \u001b[39mself\u001b[39m\u001b[39m.\u001b[39m_forward_hooks \u001b[39mor\u001b[39;00m \u001b[39mself\u001b[39m\u001b[39m.\u001b[39m_forward_pre_hooks\n\u001b[0;32m   1499\u001b[0m         \u001b[39mor\u001b[39;00m _global_backward_pre_hooks \u001b[39mor\u001b[39;00m _global_backward_hooks\n\u001b[0;32m   1500\u001b[0m         \u001b[39mor\u001b[39;00m _global_forward_hooks \u001b[39mor\u001b[39;00m _global_forward_pre_hooks):\n\u001b[1;32m-> 1501\u001b[0m     \u001b[39mreturn\u001b[39;00m forward_call(\u001b[39m*\u001b[39;49margs, \u001b[39m*\u001b[39;49m\u001b[39m*\u001b[39;49mkwargs)\n\u001b[0;32m   1502\u001b[0m \u001b[39m# Do not call functions when jit is used\u001b[39;00m\n\u001b[0;32m   1503\u001b[0m full_backward_hooks, non_full_backward_hooks \u001b[39m=\u001b[39m [], []\n",
      "File \u001b[1;32mc:\\Users\\rosen\\miniconda3\\envs\\DLO\\Lib\\site-packages\\torch\\nn\\modules\\linear.py:114\u001b[0m, in \u001b[0;36mLinear.forward\u001b[1;34m(self, input)\u001b[0m\n\u001b[0;32m    113\u001b[0m \u001b[39mdef\u001b[39;00m \u001b[39mforward\u001b[39m(\u001b[39mself\u001b[39m, \u001b[39minput\u001b[39m: Tensor) \u001b[39m-\u001b[39m\u001b[39m>\u001b[39m Tensor:\n\u001b[1;32m--> 114\u001b[0m     \u001b[39mreturn\u001b[39;00m F\u001b[39m.\u001b[39;49mlinear(\u001b[39minput\u001b[39;49m, \u001b[39mself\u001b[39;49m\u001b[39m.\u001b[39;49mweight, \u001b[39mself\u001b[39;49m\u001b[39m.\u001b[39;49mbias)\n",
      "\u001b[1;31mKeyboardInterrupt\u001b[0m: "
     ]
    }
   ],
   "source": [
    "for i, batch in tqdm(enumerate(iter(train_dl)), total=len(train_dl)):\n",
    "    x, y = batch\n",
    "    y_hat = model.forward(x)\n",
    "    predicted_class = torch.argmax(y_hat, dim=1).item()\n",
    "    actual_class = y.item()\n",
    "    \n",
    "    log_dict[\"predicted\"].append(predicted_class)\n",
    "    log_dict[\"actual\"].append(actual_class)\n",
    "    \n",
    "    if predicted_class == actual_class:\n",
    "        # print(f\"Misclassified {predicted_class} as {actual_class}\")\n",
    "        for px in range(28*28):\n",
    "            # invert a pixel and see if the prediction changes\n",
    "            x[0, px] = 1 - x[0, px]\n",
    "            y_hat = model.forward(x)\n",
    "            predicted_class = torch.argmax(y_hat, dim=1).item()\n",
    "            \n",
    "            log_dict[\"predicted\"].append(predicted_class)\n",
    "            log_dict[\"actual\"].append(actual_class)\n",
    "            \n",
    "            if predicted_class != actual_class:\n",
    "                model_reacted.append(px)\n",
    "                failed_combinations.append((predicted_class, actual_class))\n",
    "    else:\n",
    "        failed_combinations.append((predicted_class, actual_class))\n",
    "        model_reacted.append(\"unmodified\")"
   ]
  },
  {
   "cell_type": "code",
   "execution_count": 16,
   "metadata": {},
   "outputs": [
    {
     "data": {
      "text/plain": [
       "'Performed 29735 iterations.'"
      ]
     },
     "execution_count": 16,
     "metadata": {},
     "output_type": "execute_result"
    }
   ],
   "source": [
    "f\"Performed {i} iterations.\""
   ]
  },
  {
   "cell_type": "code",
   "execution_count": 50,
   "metadata": {},
   "outputs": [
    {
     "data": {
      "image/png": "[encoded data removed]",
      "text/plain": [
       "<Figure size 640x480 with 2 Axes>"
      ]
     },
     "metadata": {},
     "output_type": "display_data"
    }
   ],
   "source": [
    "# plot classification matrix for all classes\n",
    "import matplotlib.pyplot as plt\n",
    "from sklearn.metrics import multilabel_confusion_matrix, ConfusionMatrixDisplay\n",
    "\n",
    "log_df = (\n",
    "    pd.DataFrame(log_dict) \n",
    ")\n",
    "\n",
    "disp = ConfusionMatrixDisplay.from_predictions(\n",
    "    log_df[\"actual\"], \n",
    "    log_df[\"predicted\"],\n",
    "    labels=range(10),\n",
    "    normalize=\"true\",\n",
    "    include_values=False,\n",
    "    \n",
    "    )\n",
    "# disp.plot()\n"
   ]
  },
  {
   "cell_type": "code",
   "execution_count": 23,
   "metadata": {},
   "outputs": [
    {
     "data": {
      "text/plain": [
       "[((8, 1), 1214428),\n",
       " ((8, 6), 1140987),\n",
       " ((8, 9), 1090318),\n",
       " ((8, 4), 1007073),\n",
       " ((8, 2), 976416),\n",
       " ((8, 3), 866935),\n",
       " ((8, 0), 845051),\n",
       " ((8, 7), 833415),\n",
       " ((8, 5), 624127),\n",
       " ((5, 7), 545295)]"
      ]
     },
     "execution_count": 23,
     "metadata": {},
     "output_type": "execute_result"
    }
   ],
   "source": [
    "\n",
    "# finde the most common misclassifications\n",
    "from collections import Counter\n",
    "Counter(failed_combinations).most_common(10)"
   ]
  },
  {
   "cell_type": "code",
   "execution_count": null,
   "metadata": {},
   "outputs": [],
   "source": [
    "# the Counter shows the pixel index as key and the count as value\n",
    "matrix = np.zeros(28*28)\n",
    "\n",
    "for i in tqdm(range(28*28)):\n",
    "    c[i] = Counter(model_reacted)[i]\n",
    "    \n",
    "matrix = c.reshape(28, 28)\n",
    "plt.heatmap(matrix, cmap=\"Blues\")\n",
    "plt.show()\n"
   ]
  },
  {
   "cell_type": "code",
   "execution_count": 46,
   "metadata": {},
   "outputs": [],
   "source": [
    "\n",
    "matrix = np.zeros(28*28)\n",
    "for item in Counter(model_reacted).items():\n",
    "    x, y = item\n",
    "    if x == \"unmodified\":\n",
    "        break\n",
    "    matrix[x] = y\n"
   ]
  },
  {
   "cell_type": "code",
   "execution_count": 52,
   "metadata": {},
   "outputs": [
    {
     "data": {
      "image/png": "[encoded data removed]",
      "text/plain": [
       "<Figure size 640x480 with 2 Axes>"
      ]
     },
     "metadata": {},
     "output_type": "display_data"
    }
   ],
   "source": [
    "matrix = matrix.reshape(28, 28)\n",
    "plt.imshow(matrix, cmap='hot', interpolation='nearest', )\n",
    "plt.colorbar()\n",
    "plt.show()\n"
   ]
  },
  {
   "cell_type": "code",
   "execution_count": null,
   "metadata": {},
   "outputs": [],
   "source": []
  },
  {
   "cell_type": "code",
   "execution_count": null,
   "metadata": {},
   "outputs": [],
   "source": []
  },
  {
   "cell_type": "code",
   "execution_count": null,
   "metadata": {},
   "outputs": [],
   "source": []
  },
  {
   "cell_type": "code",
   "execution_count": null,
   "metadata": {},
   "outputs": [],
   "source": []
  },
  {
   "cell_type": "code",
   "execution_count": null,
   "metadata": {},
   "outputs": [],
   "source": []
  },
  {
   "cell_type": "code",
   "execution_count": 60,
   "metadata": {},
   "outputs": [
    {
     "name": "stderr",
     "output_type": "stream",
     "text": [
      "  0%|          | 0/58743 [00:00<?, ?it/s]\n",
      "  0%|          | 0/1 [00:03<?, ?it/s]\n"
     ]
    },
    {
     "ename": "RuntimeError",
     "evalue": "zero-dimensional tensor (at position 1) cannot be concatenated",
     "output_type": "error",
     "traceback": [
      "\u001b[1;31m---------------------------------------------------------------------------\u001b[0m",
      "\u001b[1;31mRuntimeError\u001b[0m                              Traceback (most recent call last)",
      "Cell \u001b[1;32mIn[60], line 37\u001b[0m\n\u001b[0;32m     35\u001b[0m \u001b[39mif\u001b[39;00m predicted_class \u001b[39m!=\u001b[39m actual_class:\n\u001b[0;32m     36\u001b[0m     model_reacted\u001b[39m.\u001b[39mappend(px)\n\u001b[1;32m---> 37\u001b[0m     failed_tensor \u001b[39m=\u001b[39m torch\u001b[39m.\u001b[39mcat((failed_tensor, torch\u001b[39m.\u001b[39;49mcat((predicted_class, actual_class), dim\u001b[39m=\u001b[39;49m\u001b[39m1\u001b[39;49m)), dim\u001b[39m=\u001b[39m\u001b[39m0\u001b[39m)\n",
      "\u001b[1;31mRuntimeError\u001b[0m: zero-dimensional tensor (at position 1) cannot be concatenated"
     ]
    }
   ],
   "source": [
    "for i, batch in tqdm(enumerate(iter(train_dl)), total=len(train_dl)):\n",
    "    x, y = batch\n",
    "    y_hat = model.forward(x)\n",
    "    predicted_class = torch.argmax(y_hat, dim=1)\n",
    "    actual_class = y\n",
    "    \n",
    "    predicted_classes = torch.argmax(y_hat, dim=1)\n",
    "    actual_classes = y.squeeze()\n",
    "    \n",
    "    log_dict[\"predicted\"].extend(predicted_classes.tolist())\n",
    "    log_dict[\"actual\"].extend(actual_classes.tolist())\n",
    "\n",
    "    correct_mask = predicted_classes == actual_classes\n",
    "    incorrect_mask = ~correct_mask\n",
    "    model_reacted.extend([\"default\" for _ in range(incorrect_mask.sum())])\n",
    "    # log the failed combinations\n",
    "    #make iterable of the two tensors predicted_classes[incorrect_mask], actual_classes[incorrect_mask]\n",
    "    \n",
    "    failed_tensor = torch.stack((predicted_classes[incorrect_mask], actual_classes[incorrect_mask]), dim=1)\n",
    "    \n",
    "    # iterate over the correct predictions and try to modify them until the model fails\n",
    "    for i_sample in tqdm(range(correct_mask.sum().item())):\n",
    "        \n",
    "        # print(f\"Misclassified {predicted_class} as {actual_class}\")\n",
    "        modified_x = x[i_sample, :].clone()\n",
    "        for i, px in enumerate(range(28*28)):\n",
    "            modified_x = modified_x.view(-1,28*28)\n",
    "            # invert a pixel and see if the prediction changes\n",
    "            modified_x[px] = 1 - modified_x[px]\n",
    "            y_hat = model.forward(modified_x)\n",
    "            predicted_class = torch.argmax(y_hat, dim=1)\n",
    "            actual_class = y[i_sample]\n",
    "            log_dict[\"predicted\"].append(predicted_class.item())\n",
    "            log_dict[\"actual\"].append(actual_class.item())\n",
    "            \n",
    "            if predicted_class != actual_class:\n",
    "                model_reacted.append(px)\n",
    "                failed_tensor = torch.cat((failed_tensor, torch.cat((predicted_class, actual_class), dim=1)), dim=0)\n",
    "        "
   ]
  }
 ],
 "metadata": {
  "kernelspec": {
   "display_name": "DLO",
   "language": "python",
   "name": "python3"
  },
  "language_info": {
   "codemirror_mode": {
    "name": "ipython",
    "version": 3
   },
   "file_extension": ".py",
   "mimetype": "text/x-python",
   "name": "python",
   "nbconvert_exporter": "python",
   "pygments_lexer": "ipython3",
   "version": "3.11.3"
  },
  "orig_nbformat": 4
 },
 "nbformat": 4,
 "nbformat_minor": 2
}
