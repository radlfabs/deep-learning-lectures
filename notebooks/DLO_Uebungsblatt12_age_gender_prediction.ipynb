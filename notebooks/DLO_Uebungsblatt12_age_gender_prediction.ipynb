{
 "cells": [
  {
   "cell_type": "markdown",
   "metadata": {},
   "source": [
    "## Quelle: V Kishore Ayyadevara and Yeshwanth Reddy, Modern Computer Vision with PyTorch"
   ]
  },
  {
   "cell_type": "code",
   "execution_count": null,
   "metadata": {
    "id": "GO820-swkq7r"
   },
   "outputs": [],
   "source": [
    "import torch\n",
    "import numpy as np\n",
    "import cv2\n",
    "import pandas as pd\n",
    "import glob\n",
    "import time\n",
    "import matplotlib.pyplot as plt\n",
    "%matplotlib inline\n",
    "import torch\n",
    "import torch.nn as nn\n",
    "from torch import optim\n",
    "import torch.nn.functional as F\n",
    "from torch.utils.data import Dataset, DataLoader\n",
    "import torchvision\n",
    "from torchvision import transforms, models, datasets\n",
    "from torch.utils.data import Dataset, DataLoader\n",
    "from torchsummary import summary\n",
    "import cv2\n",
    "from tqdm import tqdm\n",
    "from time import sleep\n",
    "\n",
    "device = 'cuda' if torch.cuda.is_available() else 'cpu'\n",
    "print( f\"device: {device}\" )"
   ]
  },
  {
   "cell_type": "code",
   "execution_count": null,
   "metadata": {},
   "outputs": [],
   "source": [
    "# DOWNLOAD DER DATEN:\n",
    "# https://drive.google.com/uc?id=1Z1RqRo0_JiavaZw2yzZG6WETdZQ8qX86"
   ]
  },
  {
   "cell_type": "code",
   "execution_count": null,
   "metadata": {
    "colab": {
     "base_uri": "https://localhost:8080/",
     "height": 198
    },
    "id": "NK77ld3gkyvk",
    "outputId": "fb5a9f83-6097-4773-e541-41c2a9c08492"
   },
   "outputs": [],
   "source": [
    "trn_df = pd.read_csv('c:/data/FairFace/fairface-label-train.csv')\n",
    "val_df = pd.read_csv('c:/data/FairFace/fairface-label-val.csv')\n",
    "trn_df.head()"
   ]
  },
  {
   "cell_type": "code",
   "execution_count": null,
   "metadata": {
    "id": "XVOL0emTljbq"
   },
   "outputs": [],
   "source": [
    "IMAGE_SIZE = 224\n",
    "class GenderAgeClass(Dataset):\n",
    "    def __init__(self, df, tfms=None):\n",
    "        self.df = df\n",
    "        self.normalize = transforms.Normalize(mean=[0.485, 0.456, 0.406], \n",
    "                                              std=[0.229, 0.224, 0.225])\n",
    "    def __len__(self): return len(self.df)\n",
    "    def __getitem__(self, ix):\n",
    "        f = self.df.iloc[ix].squeeze()\n",
    "        file = f.file\n",
    "        gen = f.gender == 'Female'\n",
    "        age = f.age\n",
    "        im = cv2.imread(file)\n",
    "        im = cv2.cvtColor(im, cv2.COLOR_BGR2RGB)\n",
    "        return im, age, gen\n",
    "\n",
    "    def preprocess_image(self, im):\n",
    "        im = cv2.resize(im, (IMAGE_SIZE, IMAGE_SIZE))\n",
    "        im = torch.tensor(im).permute(2,0,1)\n",
    "        im = self.normalize(im/255.)\n",
    "        return im[None]\n",
    "\n",
    "    def collate_fn(self, batch):\n",
    "        'preprocess images, ages and genders'\n",
    "        ims, ages, genders = [], [], []\n",
    "        for im, age, gender in batch:\n",
    "            im = self.preprocess_image(im)\n",
    "            ims.append(im)\n",
    "\n",
    "            ages.append(float(int(age)/80))\n",
    "            genders.append(float(gender))\n",
    "\n",
    "        ages, genders = [torch.tensor(x).to(device).float() for x in [ages, genders]]\n",
    "        ims = torch.cat(ims).to(device)\n",
    "\n",
    "        return ims, ages, genders"
   ]
  },
  {
   "cell_type": "code",
   "execution_count": null,
   "metadata": {
    "id": "cfQ7WlW1mO8c"
   },
   "outputs": [],
   "source": [
    "trn = GenderAgeClass(trn_df)\n",
    "val = GenderAgeClass(val_df)"
   ]
  },
  {
   "cell_type": "code",
   "execution_count": null,
   "metadata": {
    "colab": {
     "base_uri": "https://localhost:8080/"
    },
    "id": "eJEiuBhlnPd-",
    "outputId": "fd1dd131-c563-4d02-af65-819886175782"
   },
   "outputs": [],
   "source": [
    "train_loader = DataLoader(trn, batch_size=64, shuffle=True, drop_last=True, collate_fn=trn.collate_fn)\n",
    "test_loader = DataLoader(val, batch_size=64, collate_fn=val.collate_fn)\n",
    "a,b,c, = next(iter(train_loader))\n",
    "print(a.shape, b.shape, c.shape)"
   ]
  },
  {
   "cell_type": "code",
   "execution_count": null,
   "metadata": {
    "colab": {
     "base_uri": "https://localhost:8080/",
     "height": 84,
     "referenced_widgets": [
      "a247b4c6ac9d44ab8e4c82ccfa9d8b05",
      "e0597664297e4074aafb1abc74462c54",
      "7a01294a511e42b394dd62f2af3f3014",
      "c029002323f34a74a873b4175906a3ea",
      "e6a7f4bb399f42969d624bc55fcb81e4",
      "169be448255e45e4b69f47740b1fc4e9",
      "2e780ce258ee4277b0d7e3fc99fef48e",
      "da9aacf457e948a9a406b0e5f7028bb0"
     ]
    },
    "id": "nvj3Nb6_ngim",
    "outputId": "e4eab945-a346-4b24-9251-24abeecb96f6"
   },
   "outputs": [],
   "source": [
    "def get_model():\n",
    "    model = models.vgg16( weights='IMAGENET1K_V1' )  # oder 'VGG16_Weights.DEFAULT'\n",
    "    \n",
    "    # Freeze parameters so we don't backprop through them\n",
    "    for param in model.parameters():\n",
    "        param.requires_grad = False\n",
    "    model.avgpool = nn.Sequential(\n",
    "        nn.Conv2d(512,512, kernel_size=3),\n",
    "        nn.MaxPool2d(2),\n",
    "        nn.ReLU(),\n",
    "        nn.Flatten()\n",
    "    )\n",
    "    class ageGenderClassifier(nn.Module):\n",
    "        def __init__(self):\n",
    "            super(ageGenderClassifier, self).__init__()\n",
    "            self.intermediate = nn.Sequential(\n",
    "                nn.Linear(2048,512),\n",
    "                nn.ReLU(),\n",
    "                nn.Dropout(0.4),\n",
    "                nn.Linear(512,128),\n",
    "                nn.ReLU(),\n",
    "                nn.Dropout(0.4),\n",
    "                nn.Linear(128,64),\n",
    "                nn.ReLU(),\n",
    "            )\n",
    "            self.age_classifier = nn.Sequential(\n",
    "                nn.Linear(64, 1),\n",
    "                nn.Sigmoid()\n",
    "            )\n",
    "            self.gender_classifier = nn.Sequential(\n",
    "                nn.Linear(64, 1),\n",
    "                nn.Sigmoid()\n",
    "            )\n",
    "        def forward(self, x):\n",
    "            x = self.intermediate(x)\n",
    "            age = self.age_classifier(x)\n",
    "            gender = self.gender_classifier(x)\n",
    "            return gender, age\n",
    "        \n",
    "    model.classifier = ageGenderClassifier()\n",
    "    \n",
    "    gender_criterion = nn.BCELoss()\n",
    "    age_criterion = nn.L1Loss()\n",
    "    loss_functions = gender_criterion, age_criterion\n",
    "    optimizer = torch.optim.Adam(model.parameters(), lr= 1e-4)\n",
    "    \n",
    "    return model.to(device), loss_functions, optimizer\n",
    "\n",
    "model, loss_functions, optimizer = get_model()\n",
    "\n",
    "summary(model, input_size=(3,224,224), device=device)"
   ]
  },
  {
   "cell_type": "code",
   "execution_count": null,
   "metadata": {
    "id": "aJoiV7T2oMRc"
   },
   "outputs": [],
   "source": [
    "def train_batch(data, model, optimizer, criteria):\n",
    "    model.train()\n",
    "    ims, age, gender = data\n",
    "    optimizer.zero_grad()\n",
    "    pred_gender, pred_age = model(ims)    \n",
    "    gender_criterion, age_criterion = criteria\n",
    "    gender_loss = gender_criterion(pred_gender.squeeze(), gender)\n",
    "    age_loss = age_criterion(pred_age.squeeze(), age)\n",
    "    total_loss = gender_loss + age_loss\n",
    "    total_loss.backward()\n",
    "    optimizer.step()\n",
    "    return total_loss\n",
    "\n",
    "def validate_batch(data, model, criteria):\n",
    "    model.eval()\n",
    "    ims, age, gender = data\n",
    "    with torch.no_grad():\n",
    "      pred_gender, pred_age = model(ims)\n",
    "    gender_criterion, age_criterion = criteria\n",
    "    gender_loss = gender_criterion(pred_gender.squeeze(), gender)\n",
    "    age_loss = age_criterion(pred_age.squeeze(), age)\n",
    "    total_loss = gender_loss + age_loss\n",
    "    pred_gender = (pred_gender > 0.5).squeeze()\n",
    "    gender_acc = (pred_gender == gender).float().sum()\n",
    "    age_mae = torch.abs(age - pred_age).float().sum()\n",
    "    return total_loss, gender_acc, age_mae"
   ]
  },
  {
   "cell_type": "code",
   "execution_count": null,
   "metadata": {
    "colab": {
     "base_uri": "https://localhost:8080/"
    },
    "id": "uhbO3pA0oTuc",
    "outputId": "e67a2fa1-5939-4ce6-8651-c0d83c65cda0"
   },
   "outputs": [],
   "source": [
    "model, criteria, optimizer = get_model()\n",
    "val_gender_accuracies = []\n",
    "val_age_maes = []\n",
    "train_losses = []\n",
    "val_losses = []\n",
    "\n",
    "n_epochs = 5\n",
    "best_test_loss = 1000\n",
    "start = time.time()\n",
    "\n",
    "for epoch in range(n_epochs):\n",
    "    epoch_train_loss, epoch_test_loss = 0, 0\n",
    "    val_age_mae, val_gender_acc, ctr = 0, 0, 0\n",
    "    _n = len(train_loader)\n",
    "    \n",
    "    with tqdm(train_loader, unit=\"batch\") as tepoch:\n",
    "        for data in tepoch:\n",
    "            tepoch.set_description(f\"Epoch {epoch}\")\n",
    "            loss = train_batch(data, model, optimizer, criteria)\n",
    "            epoch_train_loss += loss.item()\n",
    "            sleep(0.1)\n",
    "\n",
    "    for ix, data in enumerate(test_loader):\n",
    "        loss, gender_acc, age_mae = validate_batch(data, model, criteria)\n",
    "        epoch_test_loss += loss.item()\n",
    "        val_age_mae += age_mae\n",
    "        val_gender_acc += gender_acc\n",
    "        ctr += len(data[0])\n",
    "\n",
    "    val_age_mae /= ctr\n",
    "    val_gender_acc /= ctr\n",
    "    epoch_train_loss /= len(train_loader)\n",
    "    epoch_test_loss /= len(test_loader)\n",
    "\n",
    "    elapsed = time.time()-start\n",
    "    best_test_loss = min(best_test_loss, epoch_test_loss)\n",
    "    print('{}/{} ({:.2f}s - {:.2f}s remaining)'.format(epoch+1, n_epochs, time.time()-start, (n_epochs-epoch)*(elapsed/(epoch+1))))\n",
    "    info = f'''Epoch: {epoch+1:03d}\\tTrain Loss: {epoch_train_loss:.3f}\\tTest: {epoch_test_loss:.3f}\\tBest Test Loss: {best_test_loss:.4f}'''\n",
    "    info += f'\\nGender Accuracy: {val_gender_acc*100:.2f}%\\tAge MAE: {val_age_mae:.2f}\\n'\n",
    "    print(info)\n",
    "\n",
    "    val_gender_accuracies.append(val_gender_acc)\n",
    "    val_age_maes.append(val_age_mae)"
   ]
  },
  {
   "cell_type": "code",
   "execution_count": null,
   "metadata": {},
   "outputs": [],
   "source": [
    "torch.save( model.state_dict(), 'ageGenderPrediction.pt' )"
   ]
  },
  {
   "cell_type": "code",
   "execution_count": null,
   "metadata": {
    "colab": {
     "base_uri": "https://localhost:8080/",
     "height": 652
    },
    "id": "U3MVHGy2tQgn",
    "outputId": "322370b2-2b44-471c-800f-2637206d469d"
   },
   "outputs": [],
   "source": [
    "#!wget https://www.dropbox.com/s/6kzr8l68e9kpjkf/5_9.JPG\n",
    "#\n",
    "im = cv2.imread('5_9.JPG')\n",
    "im = trn.preprocess_image(im).to(device)\n",
    "gender, age = model(im)\n",
    "pred_gender = gender.to('cpu').detach().numpy()\n",
    "pred_age = age.to('cpu').detach().numpy()\n",
    "im = cv2.imread('5_9.JPG')\n",
    "im = cv2.cvtColor(im, cv2.COLOR_BGR2RGB)\n",
    "plt.imshow(im)\n",
    "print('predicted gender:',np.where(pred_gender[0][0]<0.5,'Male','Female'), '; Predicted age', int(pred_age[0][0]*80))"
   ]
  }
 ],
 "metadata": {
  "accelerator": "GPU",
  "colab": {
   "authorship_tag": "ABX9TyN/KZkDxUUGhZ9VYe1r36El",
   "collapsed_sections": [],
   "include_colab_link": true,
   "name": "age-gender-without-torch-snippets",
   "provenance": []
  },
  "kernelspec": {
   "display_name": "Python 3 (ipykernel)",
   "language": "python",
   "name": "python3"
  },
  "language_info": {
   "codemirror_mode": {
    "name": "ipython",
    "version": 3
   },
   "file_extension": ".py",
   "mimetype": "text/x-python",
   "name": "python",
   "nbconvert_exporter": "python",
   "pygments_lexer": "ipython3",
   "version": "3.9.13"
  },
  "widgets": {
   "application/vnd.jupyter.widget-state+json": {
    "169be448255e45e4b69f47740b1fc4e9": {
     "model_module": "@jupyter-widgets/base",
     "model_name": "LayoutModel",
     "state": {
      "_model_module": "@jupyter-widgets/base",
      "_model_module_version": "1.2.0",
      "_model_name": "LayoutModel",
      "_view_count": null,
      "_view_module": "@jupyter-widgets/base",
      "_view_module_version": "1.2.0",
      "_view_name": "LayoutView",
      "align_content": null,
      "align_items": null,
      "align_self": null,
      "border": null,
      "bottom": null,
      "display": null,
      "flex": null,
      "flex_flow": null,
      "grid_area": null,
      "grid_auto_columns": null,
      "grid_auto_flow": null,
      "grid_auto_rows": null,
      "grid_column": null,
      "grid_gap": null,
      "grid_row": null,
      "grid_template_areas": null,
      "grid_template_columns": null,
      "grid_template_rows": null,
      "height": null,
      "justify_content": null,
      "justify_items": null,
      "left": null,
      "margin": null,
      "max_height": null,
      "max_width": null,
      "min_height": null,
      "min_width": null,
      "object_fit": null,
      "object_position": null,
      "order": null,
      "overflow": null,
      "overflow_x": null,
      "overflow_y": null,
      "padding": null,
      "right": null,
      "top": null,
      "visibility": null,
      "width": null
     }
    },
    "2e780ce258ee4277b0d7e3fc99fef48e": {
     "model_module": "@jupyter-widgets/controls",
     "model_name": "DescriptionStyleModel",
     "state": {
      "_model_module": "@jupyter-widgets/controls",
      "_model_module_version": "1.5.0",
      "_model_name": "DescriptionStyleModel",
      "_view_count": null,
      "_view_module": "@jupyter-widgets/base",
      "_view_module_version": "1.2.0",
      "_view_name": "StyleView",
      "description_width": ""
     }
    },
    "7a01294a511e42b394dd62f2af3f3014": {
     "model_module": "@jupyter-widgets/controls",
     "model_name": "FloatProgressModel",
     "state": {
      "_dom_classes": [],
      "_model_module": "@jupyter-widgets/controls",
      "_model_module_version": "1.5.0",
      "_model_name": "FloatProgressModel",
      "_view_count": null,
      "_view_module": "@jupyter-widgets/controls",
      "_view_module_version": "1.5.0",
      "_view_name": "ProgressView",
      "bar_style": "success",
      "description": "100%",
      "description_tooltip": null,
      "layout": "IPY_MODEL_169be448255e45e4b69f47740b1fc4e9",
      "max": 553433881,
      "min": 0,
      "orientation": "horizontal",
      "style": "IPY_MODEL_e6a7f4bb399f42969d624bc55fcb81e4",
      "value": 553433881
     }
    },
    "a247b4c6ac9d44ab8e4c82ccfa9d8b05": {
     "model_module": "@jupyter-widgets/controls",
     "model_name": "HBoxModel",
     "state": {
      "_dom_classes": [],
      "_model_module": "@jupyter-widgets/controls",
      "_model_module_version": "1.5.0",
      "_model_name": "HBoxModel",
      "_view_count": null,
      "_view_module": "@jupyter-widgets/controls",
      "_view_module_version": "1.5.0",
      "_view_name": "HBoxView",
      "box_style": "",
      "children": [
       "IPY_MODEL_7a01294a511e42b394dd62f2af3f3014",
       "IPY_MODEL_c029002323f34a74a873b4175906a3ea"
      ],
      "layout": "IPY_MODEL_e0597664297e4074aafb1abc74462c54"
     }
    },
    "c029002323f34a74a873b4175906a3ea": {
     "model_module": "@jupyter-widgets/controls",
     "model_name": "HTMLModel",
     "state": {
      "_dom_classes": [],
      "_model_module": "@jupyter-widgets/controls",
      "_model_module_version": "1.5.0",
      "_model_name": "HTMLModel",
      "_view_count": null,
      "_view_module": "@jupyter-widgets/controls",
      "_view_module_version": "1.5.0",
      "_view_name": "HTMLView",
      "description": "",
      "description_tooltip": null,
      "layout": "IPY_MODEL_da9aacf457e948a9a406b0e5f7028bb0",
      "placeholder": "​",
      "style": "IPY_MODEL_2e780ce258ee4277b0d7e3fc99fef48e",
      "value": " 528M/528M [00:17&lt;00:00, 31.1MB/s]"
     }
    },
    "da9aacf457e948a9a406b0e5f7028bb0": {
     "model_module": "@jupyter-widgets/base",
     "model_name": "LayoutModel",
     "state": {
      "_model_module": "@jupyter-widgets/base",
      "_model_module_version": "1.2.0",
      "_model_name": "LayoutModel",
      "_view_count": null,
      "_view_module": "@jupyter-widgets/base",
      "_view_module_version": "1.2.0",
      "_view_name": "LayoutView",
      "align_content": null,
      "align_items": null,
      "align_self": null,
      "border": null,
      "bottom": null,
      "display": null,
      "flex": null,
      "flex_flow": null,
      "grid_area": null,
      "grid_auto_columns": null,
      "grid_auto_flow": null,
      "grid_auto_rows": null,
      "grid_column": null,
      "grid_gap": null,
      "grid_row": null,
      "grid_template_areas": null,
      "grid_template_columns": null,
      "grid_template_rows": null,
      "height": null,
      "justify_content": null,
      "justify_items": null,
      "left": null,
      "margin": null,
      "max_height": null,
      "max_width": null,
      "min_height": null,
      "min_width": null,
      "object_fit": null,
      "object_position": null,
      "order": null,
      "overflow": null,
      "overflow_x": null,
      "overflow_y": null,
      "padding": null,
      "right": null,
      "top": null,
      "visibility": null,
      "width": null
     }
    },
    "e0597664297e4074aafb1abc74462c54": {
     "model_module": "@jupyter-widgets/base",
     "model_name": "LayoutModel",
     "state": {
      "_model_module": "@jupyter-widgets/base",
      "_model_module_version": "1.2.0",
      "_model_name": "LayoutModel",
      "_view_count": null,
      "_view_module": "@jupyter-widgets/base",
      "_view_module_version": "1.2.0",
      "_view_name": "LayoutView",
      "align_content": null,
      "align_items": null,
      "align_self": null,
      "border": null,
      "bottom": null,
      "display": null,
      "flex": null,
      "flex_flow": null,
      "grid_area": null,
      "grid_auto_columns": null,
      "grid_auto_flow": null,
      "grid_auto_rows": null,
      "grid_column": null,
      "grid_gap": null,
      "grid_row": null,
      "grid_template_areas": null,
      "grid_template_columns": null,
      "grid_template_rows": null,
      "height": null,
      "justify_content": null,
      "justify_items": null,
      "left": null,
      "margin": null,
      "max_height": null,
      "max_width": null,
      "min_height": null,
      "min_width": null,
      "object_fit": null,
      "object_position": null,
      "order": null,
      "overflow": null,
      "overflow_x": null,
      "overflow_y": null,
      "padding": null,
      "right": null,
      "top": null,
      "visibility": null,
      "width": null
     }
    },
    "e6a7f4bb399f42969d624bc55fcb81e4": {
     "model_module": "@jupyter-widgets/controls",
     "model_name": "ProgressStyleModel",
     "state": {
      "_model_module": "@jupyter-widgets/controls",
      "_model_module_version": "1.5.0",
      "_model_name": "ProgressStyleModel",
      "_view_count": null,
      "_view_module": "@jupyter-widgets/base",
      "_view_module_version": "1.2.0",
      "_view_name": "StyleView",
      "bar_color": null,
      "description_width": "initial"
     }
    }
   }
  }
 },
 "nbformat": 4,
 "nbformat_minor": 1
}
